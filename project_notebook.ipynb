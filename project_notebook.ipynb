{
 "cells": [
  {
   "cell_type": "code",
   "execution_count": 1,
   "id": "40ab9f84",
   "metadata": {},
   "outputs": [],
   "source": [
    "import pandas as pd\n",
    "import numpy as np\n",
    "import tensorflow as tf\n",
    "from collections import Counter\n",
    "import pickle\n",
    "from tensorflow.keras.layers import Embedding,LSTM,Dropout,BatchNormalization,GlobalMaxPooling1D,Dense,Input,Flatten,TimeDistributed\n",
    "from tensorflow.keras.models import Model,Sequential\n",
    "from tensorflow.keras import layers\n",
    "from tensorflow.keras import backend as K\n",
    "from hazm import *\n",
    "import string\n",
    "import re\n",
    "import matplotlib.pyplot as plt\n",
    "from tensorflow.keras.preprocessing.text import Tokenizer\n",
    "from tensorflow.keras.preprocessing.sequence import pad_sequences\n",
    "from tensorflow.keras.layers import GRU"
   ]
  },
  {
   "cell_type": "code",
   "execution_count": 2,
   "id": "c1d6a8a6",
   "metadata": {},
   "outputs": [],
   "source": [
    "df=pd.read_csv('train.csv',low_memory=False)\n",
    "df1=pd.read_csv('test.csv',low_memory=False)"
   ]
  },
  {
   "cell_type": "code",
   "execution_count": 3,
   "id": "69615b4e",
   "metadata": {},
   "outputs": [
    {
     "data": {
      "text/html": [
       "<div>\n",
       "<style scoped>\n",
       "    .dataframe tbody tr th:only-of-type {\n",
       "        vertical-align: middle;\n",
       "    }\n",
       "\n",
       "    .dataframe tbody tr th {\n",
       "        vertical-align: top;\n",
       "    }\n",
       "\n",
       "    .dataframe thead th {\n",
       "        text-align: right;\n",
       "    }\n",
       "</style>\n",
       "<table border=\"1\" class=\"dataframe\">\n",
       "  <thead>\n",
       "    <tr style=\"text-align: right;\">\n",
       "      <th></th>\n",
       "      <th>id</th>\n",
       "      <th>comment</th>\n",
       "      <th>product_id</th>\n",
       "      <th>product_title_fa</th>\n",
       "      <th>category_id</th>\n",
       "      <th>category_title_fa</th>\n",
       "      <th>is_buyer</th>\n",
       "      <th>price_value</th>\n",
       "      <th>fake_originality</th>\n",
       "      <th>warranty</th>\n",
       "      <th>size</th>\n",
       "      <th>discrepancy</th>\n",
       "      <th>flavor_odor</th>\n",
       "      <th>expiration_date</th>\n",
       "    </tr>\n",
       "  </thead>\n",
       "  <tbody>\n",
       "    <tr>\n",
       "      <th>0</th>\n",
       "      <td>1215666.0</td>\n",
       "      <td>ارزششو داشت</td>\n",
       "      <td>2802959</td>\n",
       "      <td>جوراب مردانه فیرو پلاس مدل FP200 مجموعه 4 عددی</td>\n",
       "      <td>9456</td>\n",
       "      <td>جوراب و ساق مردانه</td>\n",
       "      <td>TRUE</td>\n",
       "      <td>1.0</td>\n",
       "      <td>0.0</td>\n",
       "      <td>0.0</td>\n",
       "      <td>0.0</td>\n",
       "      <td>0.0</td>\n",
       "      <td>0.0</td>\n",
       "      <td>0.0</td>\n",
       "    </tr>\n",
       "    <tr>\n",
       "      <th>1</th>\n",
       "      <td>1183149.0</td>\n",
       "      <td>یه دستگاه کاربردی فقط ای کاش طرز استفادشو میزد...</td>\n",
       "      <td>1894596</td>\n",
       "      <td>دستگاه سفید کننده دندان دنتال وایت مدل DT-1244</td>\n",
       "      <td>5745</td>\n",
       "      <td>مسواک برقی</td>\n",
       "      <td>TRUE</td>\n",
       "      <td>0.0</td>\n",
       "      <td>0.0</td>\n",
       "      <td>0.0</td>\n",
       "      <td>0.0</td>\n",
       "      <td>0.0</td>\n",
       "      <td>0.0</td>\n",
       "      <td>0.0</td>\n",
       "    </tr>\n",
       "    <tr>\n",
       "      <th>2</th>\n",
       "      <td>1011730.0</td>\n",
       "      <td>خیلی خوب و ارزان</td>\n",
       "      <td>323729</td>\n",
       "      <td>کتاب بهترین قصه ملانصرالدین کلک مرغابی اثر مهر...</td>\n",
       "      <td>5918</td>\n",
       "      <td>کتاب چاپی</td>\n",
       "      <td>TRUE</td>\n",
       "      <td>1.0</td>\n",
       "      <td>0.0</td>\n",
       "      <td>0.0</td>\n",
       "      <td>0.0</td>\n",
       "      <td>0.0</td>\n",
       "      <td>0.0</td>\n",
       "      <td>0.0</td>\n",
       "    </tr>\n",
       "    <tr>\n",
       "      <th>3</th>\n",
       "      <td>1093325.0</td>\n",
       "      <td>اندازش خیلیییییی بزرگ بود</td>\n",
       "      <td>1431242</td>\n",
       "      <td>نوار بهداشتی تافته مدل Thin بسته 7 عددی</td>\n",
       "      <td>6528</td>\n",
       "      <td>نوار بهداشتی</td>\n",
       "      <td>TRUE</td>\n",
       "      <td>0.0</td>\n",
       "      <td>0.0</td>\n",
       "      <td>0.0</td>\n",
       "      <td>1.0</td>\n",
       "      <td>0.0</td>\n",
       "      <td>0.0</td>\n",
       "      <td>0.0</td>\n",
       "    </tr>\n",
       "    <tr>\n",
       "      <th>4</th>\n",
       "      <td>1111983.0</td>\n",
       "      <td>خیلی بد بود و میچسبید به دست</td>\n",
       "      <td>1902220</td>\n",
       "      <td>ژل بازی کد shb57</td>\n",
       "      <td>6083</td>\n",
       "      <td>ابزار شوخی</td>\n",
       "      <td>FALSE</td>\n",
       "      <td>0.0</td>\n",
       "      <td>0.0</td>\n",
       "      <td>0.0</td>\n",
       "      <td>0.0</td>\n",
       "      <td>0.0</td>\n",
       "      <td>0.0</td>\n",
       "      <td>0.0</td>\n",
       "    </tr>\n",
       "    <tr>\n",
       "      <th>...</th>\n",
       "      <td>...</td>\n",
       "      <td>...</td>\n",
       "      <td>...</td>\n",
       "      <td>...</td>\n",
       "      <td>...</td>\n",
       "      <td>...</td>\n",
       "      <td>...</td>\n",
       "      <td>...</td>\n",
       "      <td>...</td>\n",
       "      <td>...</td>\n",
       "      <td>...</td>\n",
       "      <td>...</td>\n",
       "      <td>...</td>\n",
       "      <td>...</td>\n",
       "    </tr>\n",
       "    <tr>\n",
       "      <th>179994</th>\n",
       "      <td>1113909.0</td>\n",
       "      <td>خیلی خوب بود  و کاربردی</td>\n",
       "      <td>451814</td>\n",
       "      <td>جای کاغذ یادداشت رایدین مدل طلقی به همراه یک ب...</td>\n",
       "      <td>6014</td>\n",
       "      <td>لوازم اداری رومیزی</td>\n",
       "      <td>TRUE</td>\n",
       "      <td>0.0</td>\n",
       "      <td>0.0</td>\n",
       "      <td>0.0</td>\n",
       "      <td>0.0</td>\n",
       "      <td>0.0</td>\n",
       "      <td>0.0</td>\n",
       "      <td>0.0</td>\n",
       "    </tr>\n",
       "    <tr>\n",
       "      <th>179995</th>\n",
       "      <td>1100949.0</td>\n",
       "      <td>+ممنون از فروشنده+\\r\\n+ممنون از دیجی کالا+</td>\n",
       "      <td>791984</td>\n",
       "      <td>دوشاخه برق الکتروفراز کد 003</td>\n",
       "      <td>1289</td>\n",
       "      <td>چندراهی برق و محافظ ولتاژ</td>\n",
       "      <td>TRUE</td>\n",
       "      <td>0.0</td>\n",
       "      <td>0.0</td>\n",
       "      <td>0.0</td>\n",
       "      <td>0.0</td>\n",
       "      <td>0.0</td>\n",
       "      <td>0.0</td>\n",
       "      <td>0.0</td>\n",
       "    </tr>\n",
       "    <tr>\n",
       "      <th>179996</th>\n",
       "      <td>1161446.0</td>\n",
       "      <td>ماست خوشمزه و با کیفیت</td>\n",
       "      <td>1578085</td>\n",
       "      <td>ماست گلدن پاک - 2.5 کیلوگرم</td>\n",
       "      <td>9216</td>\n",
       "      <td>ماست</td>\n",
       "      <td>TRUE</td>\n",
       "      <td>0.0</td>\n",
       "      <td>0.0</td>\n",
       "      <td>0.0</td>\n",
       "      <td>0.0</td>\n",
       "      <td>0.0</td>\n",
       "      <td>1.0</td>\n",
       "      <td>0.0</td>\n",
       "    </tr>\n",
       "    <tr>\n",
       "      <th>179997</th>\n",
       "      <td>1057088.0</td>\n",
       "      <td>به قیمتش می ارزه . خوشگل</td>\n",
       "      <td>1781940</td>\n",
       "      <td>گیره مو کد PK272</td>\n",
       "      <td>9398</td>\n",
       "      <td>اکسسوری مو زنانه</td>\n",
       "      <td>TRUE</td>\n",
       "      <td>1.0</td>\n",
       "      <td>0.0</td>\n",
       "      <td>0.0</td>\n",
       "      <td>0.0</td>\n",
       "      <td>0.0</td>\n",
       "      <td>0.0</td>\n",
       "      <td>0.0</td>\n",
       "    </tr>\n",
       "    <tr>\n",
       "      <th>179998</th>\n",
       "      <td>1133203.0</td>\n",
       "      <td>جنس خمیر معمولی هست ولی قیمت مناسبی دارد بعد ا...</td>\n",
       "      <td>2998911</td>\n",
       "      <td>خمیر سیلیکون کافوتر مدل K-5211</td>\n",
       "      <td>5871</td>\n",
       "      <td>لوازم جانبی قطعات کامپیوتر</td>\n",
       "      <td>TRUE</td>\n",
       "      <td>1.0</td>\n",
       "      <td>0.0</td>\n",
       "      <td>0.0</td>\n",
       "      <td>0.0</td>\n",
       "      <td>0.0</td>\n",
       "      <td>0.0</td>\n",
       "      <td>0.0</td>\n",
       "    </tr>\n",
       "  </tbody>\n",
       "</table>\n",
       "<p>179999 rows × 14 columns</p>\n",
       "</div>"
      ],
      "text/plain": [
       "               id                                            comment  \\\n",
       "0       1215666.0                                        ارزششو داشت   \n",
       "1       1183149.0  یه دستگاه کاربردی فقط ای کاش طرز استفادشو میزد...   \n",
       "2       1011730.0                                   خیلی خوب و ارزان   \n",
       "3       1093325.0                          اندازش خیلیییییی بزرگ بود   \n",
       "4       1111983.0                       خیلی بد بود و میچسبید به دست   \n",
       "...           ...                                                ...   \n",
       "179994  1113909.0                           خیلی خوب بود  و کاربردی    \n",
       "179995  1100949.0         +ممنون از فروشنده+\\r\\n+ممنون از دیجی کالا+   \n",
       "179996  1161446.0                             ماست خوشمزه و با کیفیت   \n",
       "179997  1057088.0                           به قیمتش می ارزه . خوشگل   \n",
       "179998  1133203.0  جنس خمیر معمولی هست ولی قیمت مناسبی دارد بعد ا...   \n",
       "\n",
       "       product_id                                   product_title_fa  \\\n",
       "0         2802959     جوراب مردانه فیرو پلاس مدل FP200 مجموعه 4 عددی   \n",
       "1         1894596     دستگاه سفید کننده دندان دنتال وایت مدل DT-1244   \n",
       "2          323729  کتاب بهترین قصه ملانصرالدین کلک مرغابی اثر مهر...   \n",
       "3         1431242            نوار بهداشتی تافته مدل Thin بسته 7 عددی   \n",
       "4         1902220                                   ژل بازی کد shb57   \n",
       "...           ...                                                ...   \n",
       "179994     451814  جای کاغذ یادداشت رایدین مدل طلقی به همراه یک ب...   \n",
       "179995     791984                      دوشاخه برق الکتروفراز کد 003    \n",
       "179996    1578085                        ماست گلدن پاک - 2.5 کیلوگرم   \n",
       "179997    1781940                                   گیره مو کد PK272   \n",
       "179998    2998911                     خمیر سیلیکون کافوتر مدل K-5211   \n",
       "\n",
       "       category_id           category_title_fa is_buyer  price_value  \\\n",
       "0             9456          جوراب و ساق مردانه     TRUE          1.0   \n",
       "1             5745                  مسواک برقی     TRUE          0.0   \n",
       "2             5918                   کتاب چاپی     TRUE          1.0   \n",
       "3             6528                نوار بهداشتی     TRUE          0.0   \n",
       "4             6083                  ابزار شوخی    FALSE          0.0   \n",
       "...            ...                         ...      ...          ...   \n",
       "179994        6014          لوازم اداری رومیزی     TRUE          0.0   \n",
       "179995        1289   چندراهی برق و محافظ ولتاژ     TRUE          0.0   \n",
       "179996        9216                        ماست     TRUE          0.0   \n",
       "179997        9398            اکسسوری مو زنانه     TRUE          1.0   \n",
       "179998        5871  لوازم جانبی قطعات کامپیوتر     TRUE          1.0   \n",
       "\n",
       "        fake_originality  warranty  size  discrepancy  flavor_odor  \\\n",
       "0                    0.0       0.0   0.0          0.0          0.0   \n",
       "1                    0.0       0.0   0.0          0.0          0.0   \n",
       "2                    0.0       0.0   0.0          0.0          0.0   \n",
       "3                    0.0       0.0   1.0          0.0          0.0   \n",
       "4                    0.0       0.0   0.0          0.0          0.0   \n",
       "...                  ...       ...   ...          ...          ...   \n",
       "179994               0.0       0.0   0.0          0.0          0.0   \n",
       "179995               0.0       0.0   0.0          0.0          0.0   \n",
       "179996               0.0       0.0   0.0          0.0          1.0   \n",
       "179997               0.0       0.0   0.0          0.0          0.0   \n",
       "179998               0.0       0.0   0.0          0.0          0.0   \n",
       "\n",
       "        expiration_date  \n",
       "0                   0.0  \n",
       "1                   0.0  \n",
       "2                   0.0  \n",
       "3                   0.0  \n",
       "4                   0.0  \n",
       "...                 ...  \n",
       "179994              0.0  \n",
       "179995              0.0  \n",
       "179996              0.0  \n",
       "179997              0.0  \n",
       "179998              0.0  \n",
       "\n",
       "[179999 rows x 14 columns]"
      ]
     },
     "execution_count": 3,
     "metadata": {},
     "output_type": "execute_result"
    }
   ],
   "source": [
    "df"
   ]
  },
  {
   "cell_type": "code",
   "execution_count": 4,
   "id": "f57dd445",
   "metadata": {},
   "outputs": [],
   "source": [
    "df['is_buyer'].replace('TRUE',True,inplace=True)\n",
    "df['is_buyer'].replace('FALSE',False,inplace=True)\n",
    "df.dropna(inplace=True)"
   ]
  },
  {
   "cell_type": "code",
   "execution_count": 5,
   "id": "bae18276",
   "metadata": {},
   "outputs": [
    {
     "data": {
      "text/plain": [
       "array([1, 0], dtype=int64)"
      ]
     },
     "execution_count": 5,
     "metadata": {},
     "output_type": "execute_result"
    }
   ],
   "source": [
    "df.reset_index(inplace=True)\n",
    "df['is_buyer'] =df['is_buyer'].map({True:1,False:0})\n",
    "df1['is_buyer'] =df1['is_buyer'].map({True:1,False:0})\n",
    "df1.is_buyer.unique()"
   ]
  },
  {
   "cell_type": "code",
   "execution_count": 6,
   "id": "0d15e49f",
   "metadata": {},
   "outputs": [
    {
     "data": {
      "text/plain": [
       "1    171251\n",
       "0      8743\n",
       "Name: is_buyer, dtype: int64"
      ]
     },
     "execution_count": 6,
     "metadata": {},
     "output_type": "execute_result"
    }
   ],
   "source": [
    "df['is_buyer'].value_counts()"
   ]
  },
  {
   "cell_type": "code",
   "execution_count": 7,
   "id": "b937de03",
   "metadata": {},
   "outputs": [],
   "source": [
    "df_train=df.drop(columns=['index','id','product_id','category_id'])\n",
    "df_test=df1.drop(columns=['id','product_id','category_id'])"
   ]
  },
  {
   "cell_type": "code",
   "execution_count": 8,
   "id": "beabf772",
   "metadata": {},
   "outputs": [],
   "source": [
    "df_train[\"text\"] = df_train['comment']\n",
    "df_test[\"text\"] = df_test['comment']"
   ]
  },
  {
   "cell_type": "code",
   "execution_count": 9,
   "id": "cbbec459",
   "metadata": {
    "scrolled": true
   },
   "outputs": [],
   "source": [
    "df_train['length'] = df_train['text'].apply(lambda x: len(x))\n",
    "df_test['length'] = df_test['text'].apply(lambda x: len(x))"
   ]
  },
  {
   "cell_type": "code",
   "execution_count": 10,
   "id": "1b816066",
   "metadata": {},
   "outputs": [],
   "source": [
    "df_train.drop(columns=['comment','category_title_fa','product_title_fa'],inplace=True)\n",
    "df_test.drop(columns=['comment','category_title_fa','product_title_fa'],inplace=True)"
   ]
  },
  {
   "cell_type": "code",
   "execution_count": 11,
   "id": "9a4cf069",
   "metadata": {},
   "outputs": [],
   "source": [
    "def normalizeing(text):\n",
    "    normalizer = Normalizer()\n",
    "    return normalizer.normalize(text)\n",
    "df_train['text'] = df_train['text'].apply(lambda x: normalizeing(x))\n",
    "df_test['text'] = df_test['text'].apply(lambda x: normalizeing(x))"
   ]
  },
  {
   "cell_type": "code",
   "execution_count": 12,
   "id": "dc0c3da6",
   "metadata": {},
   "outputs": [],
   "source": [
    "def convert_to_lower(text):\n",
    "    return text.lower()\n",
    "df_train['text'] = df_train['text'].apply(lambda x: convert_to_lower(x))\n",
    "df_test['text'] = df_test['text'].apply(lambda x: convert_to_lower(x))"
   ]
  },
  {
   "cell_type": "code",
   "execution_count": 13,
   "id": "b58b0ba7",
   "metadata": {},
   "outputs": [],
   "source": [
    "def remove_numbers(text):\n",
    "    number_pattern = r'\\d+'\n",
    "    without_number = re.sub(pattern=number_pattern, repl=\" \", string=text)\n",
    "    return without_number\n",
    "df_train['text'] = df_train['text'].apply(lambda x: remove_numbers(x))\n",
    "df_test['text'] = df_test['text'].apply(lambda x: remove_numbers(x))"
   ]
  },
  {
   "cell_type": "code",
   "execution_count": 14,
   "id": "6d5f4d63",
   "metadata": {},
   "outputs": [],
   "source": [
    "def remove_punctuation(text):\n",
    "    return text.translate(str.maketrans('', '', string.punctuation))\n",
    "df_train['text'] = df_train['text'].apply(lambda x: remove_punctuation(x))\n",
    "df_test['text'] = df_test['text'].apply(lambda x: remove_punctuation(x))"
   ]
  },
  {
   "cell_type": "code",
   "execution_count": 15,
   "id": "7031bb22",
   "metadata": {},
   "outputs": [
    {
     "name": "stdout",
     "output_type": "stream",
     "text": [
      "[nltk_data] Downloading package stopwords to\n",
      "[nltk_data]     C:\\Users\\Aghil\\AppData\\Roaming\\nltk_data...\n",
      "[nltk_data]   Package stopwords is already up-to-date!\n"
     ]
    }
   ],
   "source": [
    "with open('stopwords.txt',encoding='utf-8') as stopwords_file:\n",
    "    stopwords=stopwords_file.readlines()\n",
    "stopwords=[line.replace('\\n','') for line in stopwords]\n",
    "import nltk\n",
    "nltk.download('stopwords')\n",
    "nltk_stopwords=nltk.corpus.stopwords.words('english')\n",
    "stopwords.extend(nltk_stopwords)"
   ]
  },
  {
   "cell_type": "code",
   "execution_count": 16,
   "id": "804478c9",
   "metadata": {},
   "outputs": [],
   "source": [
    "def remove_stopwords(text):\n",
    "    removed = []\n",
    "    stop_words = stopwords\n",
    "    tokens = word_tokenize(text)\n",
    "    for i in range(len(tokens)):\n",
    "        if tokens[i] not in stop_words:\n",
    "            removed.append(tokens[i])\n",
    "    return \" \".join(removed)\n",
    "df_train['text'] = df_train['text'].apply(lambda x: remove_stopwords(x))\n",
    "df_test['text'] = df_test['text'].apply(lambda x: remove_stopwords(x))"
   ]
  },
  {
   "cell_type": "code",
   "execution_count": 17,
   "id": "98d13c40",
   "metadata": {},
   "outputs": [],
   "source": [
    "def remove_extra_white_spaces(text):\n",
    "    single_char_pattern = r'\\s+[a-zA-Z0-9آ-ی۰-۹]\\s+'\n",
    "    without_sc = re.sub(pattern=single_char_pattern, repl=\" \", string=text)\n",
    "    return without_sc\n",
    "df_train['text'] = df_train['text'].apply(lambda x: remove_extra_white_spaces(x))\n",
    "df_test['text'] = df_test['text'].apply(lambda x: remove_extra_white_spaces(x))"
   ]
  },
  {
   "cell_type": "code",
   "execution_count": 18,
   "id": "f85abcec",
   "metadata": {
    "scrolled": true
   },
   "outputs": [],
   "source": [
    "def stemmering(text):\n",
    "    stemmer = Stemmer()\n",
    "    tokens = word_tokenize(text)\n",
    "    for i in range(len(tokens)):\n",
    "        lemma_word = stemmer.stem(tokens[i])\n",
    "        tokens[i] = lemma_word\n",
    "    return \" \".join(tokens)\n",
    "df_train['text'] = df_train['text'].apply(lambda x: stemmering(x))\n",
    "df_test['text'] = df_test['text'].apply(lambda x: stemmering(x))"
   ]
  },
  {
   "cell_type": "code",
   "execution_count": 19,
   "id": "693d370a",
   "metadata": {},
   "outputs": [],
   "source": [
    "df_train['length_after_cleaning'] = df_train['text'].apply(lambda x: len(x))\n",
    "df_test['length_after_cleaning'] = df_test['text'].apply(lambda x: len(x))"
   ]
  },
  {
   "cell_type": "code",
   "execution_count": 20,
   "id": "dcba98a1",
   "metadata": {},
   "outputs": [
    {
     "data": {
      "text/html": [
       "<div>\n",
       "<style scoped>\n",
       "    .dataframe tbody tr th:only-of-type {\n",
       "        vertical-align: middle;\n",
       "    }\n",
       "\n",
       "    .dataframe tbody tr th {\n",
       "        vertical-align: top;\n",
       "    }\n",
       "\n",
       "    .dataframe thead th {\n",
       "        text-align: right;\n",
       "    }\n",
       "</style>\n",
       "<table border=\"1\" class=\"dataframe\">\n",
       "  <thead>\n",
       "    <tr style=\"text-align: right;\">\n",
       "      <th></th>\n",
       "      <th>is_buyer</th>\n",
       "      <th>text</th>\n",
       "      <th>length</th>\n",
       "      <th>length_after_cleaning</th>\n",
       "    </tr>\n",
       "  </thead>\n",
       "  <tbody>\n",
       "    <tr>\n",
       "      <th>0</th>\n",
       "      <td>1</td>\n",
       "      <td>معمولیه کیفیت</td>\n",
       "      <td>56</td>\n",
       "      <td>13</td>\n",
       "    </tr>\n",
       "    <tr>\n",
       "      <th>1</th>\n",
       "      <td>1</td>\n",
       "      <td>پول می‌ارزه</td>\n",
       "      <td>36</td>\n",
       "      <td>11</td>\n",
       "    </tr>\n",
       "    <tr>\n",
       "      <th>2</th>\n",
       "      <td>1</td>\n",
       "      <td>ای بدک</td>\n",
       "      <td>14</td>\n",
       "      <td>6</td>\n",
       "    </tr>\n",
       "    <tr>\n",
       "      <th>3</th>\n",
       "      <td>1</td>\n",
       "      <td>خوبه قیم</td>\n",
       "      <td>38</td>\n",
       "      <td>8</td>\n",
       "    </tr>\n",
       "    <tr>\n",
       "      <th>4</th>\n",
       "      <td>1</td>\n",
       "      <td>ظریف</td>\n",
       "      <td>15</td>\n",
       "      <td>4</td>\n",
       "    </tr>\n",
       "  </tbody>\n",
       "</table>\n",
       "</div>"
      ],
      "text/plain": [
       "   is_buyer           text  length  length_after_cleaning\n",
       "0         1  معمولیه کیفیت      56                     13\n",
       "1         1    پول می‌ارزه      36                     11\n",
       "2         1         ای بدک      14                      6\n",
       "3         1       خوبه قیم      38                      8\n",
       "4         1           ظریف      15                      4"
      ]
     },
     "execution_count": 20,
     "metadata": {},
     "output_type": "execute_result"
    }
   ],
   "source": [
    "df_test.head()"
   ]
  },
  {
   "cell_type": "code",
   "execution_count": 21,
   "id": "48ee4799",
   "metadata": {},
   "outputs": [
    {
     "data": {
      "text/html": [
       "<div>\n",
       "<style scoped>\n",
       "    .dataframe tbody tr th:only-of-type {\n",
       "        vertical-align: middle;\n",
       "    }\n",
       "\n",
       "    .dataframe tbody tr th {\n",
       "        vertical-align: top;\n",
       "    }\n",
       "\n",
       "    .dataframe thead th {\n",
       "        text-align: right;\n",
       "    }\n",
       "</style>\n",
       "<table border=\"1\" class=\"dataframe\">\n",
       "  <thead>\n",
       "    <tr style=\"text-align: right;\">\n",
       "      <th></th>\n",
       "      <th>is_buyer</th>\n",
       "      <th>price_value</th>\n",
       "      <th>fake_originality</th>\n",
       "      <th>warranty</th>\n",
       "      <th>size</th>\n",
       "      <th>discrepancy</th>\n",
       "      <th>flavor_odor</th>\n",
       "      <th>expiration_date</th>\n",
       "      <th>text</th>\n",
       "      <th>length</th>\n",
       "      <th>length_after_cleaning</th>\n",
       "    </tr>\n",
       "  </thead>\n",
       "  <tbody>\n",
       "    <tr>\n",
       "      <th>0</th>\n",
       "      <td>1</td>\n",
       "      <td>1.0</td>\n",
       "      <td>0.0</td>\n",
       "      <td>0.0</td>\n",
       "      <td>0.0</td>\n",
       "      <td>0.0</td>\n",
       "      <td>0.0</td>\n",
       "      <td>0.0</td>\n",
       "      <td>ارزششو</td>\n",
       "      <td>11</td>\n",
       "      <td>6</td>\n",
       "    </tr>\n",
       "    <tr>\n",
       "      <th>1</th>\n",
       "      <td>1</td>\n",
       "      <td>0.0</td>\n",
       "      <td>0.0</td>\n",
       "      <td>0.0</td>\n",
       "      <td>0.0</td>\n",
       "      <td>0.0</td>\n",
       "      <td>0.0</td>\n",
       "      <td>0.0</td>\n",
       "      <td>دستگاه کاربرد طرز استفادشو میزد اینقد نباش</td>\n",
       "      <td>76</td>\n",
       "      <td>42</td>\n",
       "    </tr>\n",
       "    <tr>\n",
       "      <th>2</th>\n",
       "      <td>1</td>\n",
       "      <td>1.0</td>\n",
       "      <td>0.0</td>\n",
       "      <td>0.0</td>\n",
       "      <td>0.0</td>\n",
       "      <td>0.0</td>\n",
       "      <td>0.0</td>\n",
       "      <td>0.0</td>\n",
       "      <td>ارز</td>\n",
       "      <td>16</td>\n",
       "      <td>3</td>\n",
       "    </tr>\n",
       "    <tr>\n",
       "      <th>3</th>\n",
       "      <td>1</td>\n",
       "      <td>0.0</td>\n",
       "      <td>0.0</td>\n",
       "      <td>0.0</td>\n",
       "      <td>1.0</td>\n",
       "      <td>0.0</td>\n",
       "      <td>0.0</td>\n",
       "      <td>0.0</td>\n",
       "      <td>انداز خیلییی</td>\n",
       "      <td>25</td>\n",
       "      <td>12</td>\n",
       "    </tr>\n",
       "    <tr>\n",
       "      <th>4</th>\n",
       "      <td>0</td>\n",
       "      <td>0.0</td>\n",
       "      <td>0.0</td>\n",
       "      <td>0.0</td>\n",
       "      <td>0.0</td>\n",
       "      <td>0.0</td>\n",
       "      <td>0.0</td>\n",
       "      <td>0.0</td>\n",
       "      <td>میچسبید دس</td>\n",
       "      <td>28</td>\n",
       "      <td>10</td>\n",
       "    </tr>\n",
       "  </tbody>\n",
       "</table>\n",
       "</div>"
      ],
      "text/plain": [
       "   is_buyer  price_value  fake_originality  warranty  size  discrepancy  \\\n",
       "0         1          1.0               0.0       0.0   0.0          0.0   \n",
       "1         1          0.0               0.0       0.0   0.0          0.0   \n",
       "2         1          1.0               0.0       0.0   0.0          0.0   \n",
       "3         1          0.0               0.0       0.0   1.0          0.0   \n",
       "4         0          0.0               0.0       0.0   0.0          0.0   \n",
       "\n",
       "   flavor_odor  expiration_date                                        text  \\\n",
       "0          0.0              0.0                                      ارزششو   \n",
       "1          0.0              0.0  دستگاه کاربرد طرز استفادشو میزد اینقد نباش   \n",
       "2          0.0              0.0                                         ارز   \n",
       "3          0.0              0.0                                انداز خیلییی   \n",
       "4          0.0              0.0                                  میچسبید دس   \n",
       "\n",
       "   length  length_after_cleaning  \n",
       "0      11                      6  \n",
       "1      76                     42  \n",
       "2      16                      3  \n",
       "3      25                     12  \n",
       "4      28                     10  "
      ]
     },
     "execution_count": 21,
     "metadata": {},
     "output_type": "execute_result"
    }
   ],
   "source": [
    "df_train.head()"
   ]
  },
  {
   "cell_type": "code",
   "execution_count": 22,
   "id": "e075fd62",
   "metadata": {},
   "outputs": [],
   "source": [
    "df_train['powerlabel'] = np.array(df_train.apply(lambda x : 64*x[\"price_value\"]+32*x['fake_originality']+\n",
    "                                       16*x['warranty']+8*x['size']+\n",
    "                                       4*x['discrepancy']+2*x['flavor_odor']+\n",
    "                                       1*x['expiration_date'],axis=1))"
   ]
  },
  {
   "cell_type": "code",
   "execution_count": 23,
   "id": "74f4bd7c",
   "metadata": {},
   "outputs": [],
   "source": [
    "from sklearn.preprocessing import OneHotEncoder"
   ]
  },
  {
   "cell_type": "code",
   "execution_count": 24,
   "id": "60540f37",
   "metadata": {},
   "outputs": [],
   "source": [
    "ohe=OneHotEncoder()"
   ]
  },
  {
   "cell_type": "code",
   "execution_count": null,
   "id": "2c6cce6d",
   "metadata": {},
   "outputs": [],
   "source": []
  },
  {
   "cell_type": "code",
   "execution_count": 38,
   "id": "035b20fe",
   "metadata": {},
   "outputs": [
    {
     "data": {
      "text/plain": [
       "array([[0., 0., 0., ..., 0., 0., 0.],\n",
       "       [1., 0., 0., ..., 0., 0., 0.],\n",
       "       [0., 0., 0., ..., 0., 0., 0.],\n",
       "       ...,\n",
       "       [0., 0., 1., ..., 0., 0., 0.],\n",
       "       [0., 0., 0., ..., 0., 0., 0.],\n",
       "       [0., 0., 0., ..., 0., 0., 0.]])"
      ]
     },
     "execution_count": 38,
     "metadata": {},
     "output_type": "execute_result"
    }
   ],
   "source": [
    "x=ohe.fit_transform(np.array(df_train.powerlabel).reshape(-1,1))\n",
    "x.toarray()"
   ]
  },
  {
   "cell_type": "code",
   "execution_count": 39,
   "id": "775a45ad",
   "metadata": {},
   "outputs": [],
   "source": [
    "label=x.toarray()"
   ]
  },
  {
   "cell_type": "code",
   "execution_count": 40,
   "id": "890a7d75",
   "metadata": {},
   "outputs": [
    {
     "data": {
      "text/plain": [
       "179994"
      ]
     },
     "execution_count": 40,
     "metadata": {},
     "output_type": "execute_result"
    }
   ],
   "source": [
    "buy=np.array(df_train['is_buyer'])\n",
    "len(buy)"
   ]
  },
  {
   "cell_type": "code",
   "execution_count": 41,
   "id": "9c0a1767",
   "metadata": {},
   "outputs": [
    {
     "data": {
      "text/plain": [
       "44131"
      ]
     },
     "execution_count": 41,
     "metadata": {},
     "output_type": "execute_result"
    }
   ],
   "source": [
    "buy_test=np.array(df_test['is_buyer'])\n",
    "len(buy_test)"
   ]
  },
  {
   "cell_type": "code",
   "execution_count": 42,
   "id": "9401a43a",
   "metadata": {},
   "outputs": [],
   "source": [
    "# Define the sequence lengths, max number of words and embedding dimensions\n",
    "MAX_SEQUENCE_LENGTH = 35 #can plot a graph for length\n",
    "MAX_NB_WORDS = 20000\n",
    "EMBEDDING_DIM = 200\n"
   ]
  },
  {
   "cell_type": "code",
   "execution_count": 43,
   "id": "fe07ff49",
   "metadata": {},
   "outputs": [
    {
     "name": "stdout",
     "output_type": "stream",
     "text": [
      "Found 41620 unique tokens.\n"
     ]
    }
   ],
   "source": [
    "# Get the frequently occurring words\n",
    "tokenizer = Tokenizer(num_words=MAX_NB_WORDS)\n",
    "tokenizer.fit_on_texts(df_train.text.astype(str))\n",
    "train_sequences = tokenizer.texts_to_sequences(df_train.text.astype(str))\n",
    "test_sequences = tokenizer.texts_to_sequences(df_test.text.astype(str))\n",
    "word_index = tokenizer.word_index\n",
    "print('Found %s unique tokens.' % len(word_index))\n",
    "\n",
    "for i in range(len(buy)):\n",
    "    if buy[i]==1:\n",
    "        train_sequences[i].append(41701)\n",
    "    else: train_sequences[i].append(41702)\n",
    "for i in range(len(buy_test)):\n",
    "    if buy[i]==1:\n",
    "        test_sequences[i].append(41701)\n",
    "    else: test_sequences[i].append(41702)\n",
    "    \n",
    "#some padding shit\n",
    "train_data = pad_sequences(train_sequences, maxlen=MAX_SEQUENCE_LENGTH,padding='post',\n",
    "    truncating='post')\n",
    "test_data = pad_sequences(test_sequences, maxlen=MAX_SEQUENCE_LENGTH,padding='post',\n",
    "    truncating='post')"
   ]
  },
  {
   "cell_type": "code",
   "execution_count": 44,
   "id": "00512e55",
   "metadata": {},
   "outputs": [],
   "source": [
    "label_data=df_train[['price_value', 'fake_originality', 'warranty', 'size','discrepancy', 'flavor_odor', 'expiration_date']]"
   ]
  },
  {
   "cell_type": "code",
   "execution_count": 45,
   "id": "db590eb2",
   "metadata": {},
   "outputs": [],
   "source": [
    "class_names=['price_value', 'fake_originality', 'warranty', 'size','discrepancy', 'flavor_odor', 'expiration_date']"
   ]
  },
  {
   "cell_type": "code",
   "execution_count": 46,
   "id": "2715d1ab",
   "metadata": {},
   "outputs": [
    {
     "data": {
      "text/plain": [
       "{'positive_weights': {'price_value': 2.5185257737728772,\n",
       "  'fake_originality': 71.3695479777954,\n",
       "  'warranty': 229.5841836734694,\n",
       "  'size': 6.168825827678388,\n",
       "  'discrepancy': 11.748955613577024,\n",
       "  'flavor_odor': 9.91702479338843,\n",
       "  'expiration_date': 169.16729323308272},\n",
       " 'negative_weights': {'price_value': 0.6238527658394566,\n",
       "  'fake_originality': 0.5035276082200825,\n",
       "  'warranty': 0.5010913018785982,\n",
       "  'size': 0.5441008433844201,\n",
       "  'discrepancy': 0.5222242853992828,\n",
       "  'flavor_odor': 0.5265476629280537,\n",
       "  'expiration_date': 0.5014822079325986}}"
      ]
     },
     "execution_count": 46,
     "metadata": {},
     "output_type": "execute_result"
    }
   ],
   "source": [
    "class_weights = {}\n",
    "positive_weights = {}\n",
    "negative_weights = {}\n",
    "\n",
    "for label in (class_names):\n",
    "    positive_weights[label] = df_train.shape[0] /(2 * np.count_nonzero(df_train[label] == 1))\n",
    "    negative_weights[label] = df_train.shape[0] /(2 * np.count_nonzero(df_train[label] == 0))\n",
    "    \n",
    "class_weights['positive_weights'] = positive_weights\n",
    "class_weights['negative_weights'] = negative_weights\n",
    "class_weights"
   ]
  },
  {
   "cell_type": "code",
   "execution_count": 47,
   "id": "d5a0158a",
   "metadata": {},
   "outputs": [],
   "source": [
    "class_weights1={'positive_weights': {'price_value': 1.0178571428571428,\n",
    "  'fake_originality': 1.2391304347826086,\n",
    "  'warranty': 2.375,\n",
    "  'size': 1.3571428571428572,\n",
    "  'discrepancy': 1.2954545454545454,\n",
    "  'flavor_odor': 1.3571428571428572,\n",
    "  'expiration_date': 1.78125},\n",
    " 'negative_weights': {'price_value': 0.9827586206896551,\n",
    "  'fake_originality': 0.8382352941176471,\n",
    "  'warranty': 0.6333333333333333,\n",
    "  'size': 0.7916666666666666,\n",
    "  'discrepancy': 0.8142857142857143,\n",
    "  'flavor_odor': 0.7916666666666666,\n",
    "  'expiration_date': 0.6951219512195121}}\n",
    "Wp = class_weights1['positive_weights']\n",
    "Wn = class_weights1['negative_weights']\n",
    "\n",
    "def custom_loss(y_true, y_logit):\n",
    "    loss = float(0)\n",
    "    \n",
    "    for i, key in enumerate(Wp.keys()):\n",
    "        first_term = Wp[key] * y_true[i] * K.log(y_logit[i] + K.epsilon())\n",
    "        second_term = Wn[key] * (1 - y_true[i]) * K.log(1 - y_logit[i] + K.epsilon())\n",
    "        loss -= (first_term + second_term)\n",
    "    return loss"
   ]
  },
  {
   "cell_type": "code",
   "execution_count": 48,
   "id": "25b3872f",
   "metadata": {},
   "outputs": [],
   "source": [
    "def f1_score(y_true, y_logit):\n",
    "    true_positives = K.sum(K.round(K.clip(y_true * y_logit, 0, 1)))\n",
    "    possible_positives = K.sum(K.round(K.clip(y_true, 0, 1)))\n",
    "    recall = true_positives / (possible_positives + K.epsilon())\n",
    "    predicted_positives = K.sum(K.round(K.clip(y_logit, 0, 1)))\n",
    "    precision = true_positives / (predicted_positives + K.epsilon())\n",
    "    return (2 * precision * recall) / (precision + recall + K.epsilon())"
   ]
  },
  {
   "cell_type": "code",
   "execution_count": 55,
   "id": "506c3d6f",
   "metadata": {},
   "outputs": [],
   "source": [
    "label=x.toarray()"
   ]
  },
  {
   "cell_type": "code",
   "execution_count": 56,
   "id": "a6a20b37",
   "metadata": {},
   "outputs": [
    {
     "data": {
      "text/plain": [
       "array([[0., 0., 0., ..., 0., 0., 0.],\n",
       "       [1., 0., 0., ..., 0., 0., 0.],\n",
       "       [0., 0., 0., ..., 0., 0., 0.],\n",
       "       ...,\n",
       "       [0., 0., 1., ..., 0., 0., 0.],\n",
       "       [0., 0., 0., ..., 0., 0., 0.],\n",
       "       [0., 0., 0., ..., 0., 0., 0.]])"
      ]
     },
     "execution_count": 56,
     "metadata": {},
     "output_type": "execute_result"
    }
   ],
   "source": [
    "label"
   ]
  },
  {
   "cell_type": "code",
   "execution_count": 57,
   "id": "99a8dd4c",
   "metadata": {},
   "outputs": [],
   "source": [
    "in1=Input(shape=(MAX_SEQUENCE_LENGTH))\n",
    "x=Embedding(MAX_NB_WORDS,100)(in1)\n",
    "x=LSTM(64,return_sequences=True)(x)\n",
    "x=LSTM(32,return_sequences=True)(x)\n",
    "x=GlobalMaxPooling1D()(x)\n",
    "#x=Dense(50,activation='relu')(x)\n",
    "#x=Dense(20,activation='relu')(x)\n",
    "x=Dense(10,activation='relu')(x)\n",
    "out=Dense(57,activation='sigmoid')(x)"
   ]
  },
  {
   "cell_type": "code",
   "execution_count": 58,
   "id": "0b5936de",
   "metadata": {},
   "outputs": [],
   "source": [
    "model = Model(inputs=in1, outputs=out)"
   ]
  },
  {
   "cell_type": "code",
   "execution_count": 59,
   "id": "af2b8029",
   "metadata": {},
   "outputs": [
    {
     "name": "stdout",
     "output_type": "stream",
     "text": [
      "Model: \"model\"\n",
      "_________________________________________________________________\n",
      " Layer (type)                Output Shape              Param #   \n",
      "=================================================================\n",
      " input_1 (InputLayer)        [(None, 35)]              0         \n",
      "                                                                 \n",
      " embedding (Embedding)       (None, 35, 100)           2000000   \n",
      "                                                                 \n",
      " lstm (LSTM)                 (None, 35, 64)            42240     \n",
      "                                                                 \n",
      " lstm_1 (LSTM)               (None, 35, 32)            12416     \n",
      "                                                                 \n",
      " global_max_pooling1d (Globa  (None, 32)               0         \n",
      " lMaxPooling1D)                                                  \n",
      "                                                                 \n",
      " dense (Dense)               (None, 10)                330       \n",
      "                                                                 \n",
      " dense_1 (Dense)             (None, 57)                627       \n",
      "                                                                 \n",
      "=================================================================\n",
      "Total params: 2,055,613\n",
      "Trainable params: 2,055,613\n",
      "Non-trainable params: 0\n",
      "_________________________________________________________________\n"
     ]
    }
   ],
   "source": [
    "model.summary()"
   ]
  },
  {
   "cell_type": "code",
   "execution_count": 60,
   "id": "be9f102c",
   "metadata": {},
   "outputs": [],
   "source": [
    "from tensorflow.keras.callbacks import EarlyStopping\n",
    "\n",
    "pat=EarlyStopping(patience=5)"
   ]
  },
  {
   "cell_type": "code",
   "execution_count": 61,
   "id": "eb2cd327",
   "metadata": {},
   "outputs": [],
   "source": [
    "model.compile(optimizer=tf.keras.optimizers.Adam(0.0001), loss=custom_loss, metrics=['accuracy',f1_score])"
   ]
  },
  {
   "cell_type": "code",
   "execution_count": 62,
   "id": "0139963f",
   "metadata": {
    "scrolled": true
   },
   "outputs": [
    {
     "name": "stdout",
     "output_type": "stream",
     "text": [
      "Epoch 1/50\n",
      "247/247 [==============================] - 16s 35ms/step - loss: 3.5039 - accuracy: 0.6474 - f1_score: 0.0888 - val_loss: 2.9615 - val_accuracy: 0.6516 - val_f1_score: 0.1180\n",
      "Epoch 2/50\n",
      "247/247 [==============================] - 7s 30ms/step - loss: 2.4002 - accuracy: 0.6495 - f1_score: 0.1641 - val_loss: 1.8147 - val_accuracy: 0.6516 - val_f1_score: 0.2174\n",
      "Epoch 3/50\n",
      "247/247 [==============================] - 7s 30ms/step - loss: 1.4434 - accuracy: 0.6495 - f1_score: 0.3992 - val_loss: 1.1055 - val_accuracy: 0.6516 - val_f1_score: 0.4345\n",
      "Epoch 4/50\n",
      "247/247 [==============================] - 7s 30ms/step - loss: 0.9017 - accuracy: 0.6495 - f1_score: 0.5291 - val_loss: 0.7139 - val_accuracy: 0.6516 - val_f1_score: 0.6518\n",
      "Epoch 5/50\n",
      "247/247 [==============================] - 8s 31ms/step - loss: 0.6118 - accuracy: 0.6495 - f1_score: 0.6496 - val_loss: 0.5041 - val_accuracy: 0.6516 - val_f1_score: 0.6518\n",
      "Epoch 6/50\n",
      "247/247 [==============================] - 8s 32ms/step - loss: 0.4595 - accuracy: 0.6495 - f1_score: 0.6498 - val_loss: 0.3976 - val_accuracy: 0.6516 - val_f1_score: 0.6518\n",
      "Epoch 7/50\n",
      "247/247 [==============================] - 7s 30ms/step - loss: 0.3895 - accuracy: 0.6495 - f1_score: 0.6499 - val_loss: 0.3459 - val_accuracy: 0.6516 - val_f1_score: 0.6518\n",
      "Epoch 8/50\n",
      "247/247 [==============================] - 7s 30ms/step - loss: 0.3361 - accuracy: 0.6495 - f1_score: 0.6492 - val_loss: 0.3186 - val_accuracy: 0.6516 - val_f1_score: 0.6518\n",
      "Epoch 9/50\n",
      "247/247 [==============================] - 7s 30ms/step - loss: 0.3201 - accuracy: 0.6495 - f1_score: 0.6496 - val_loss: 0.3029 - val_accuracy: 0.6516 - val_f1_score: 0.6518\n",
      "Epoch 10/50\n",
      "247/247 [==============================] - 7s 30ms/step - loss: 0.3207 - accuracy: 0.6495 - f1_score: 0.6496 - val_loss: 0.2927 - val_accuracy: 0.6516 - val_f1_score: 0.6518\n",
      "Epoch 11/50\n",
      "247/247 [==============================] - 7s 30ms/step - loss: 0.3055 - accuracy: 0.6495 - f1_score: 0.6497 - val_loss: 0.2855 - val_accuracy: 0.6516 - val_f1_score: 0.6518\n",
      "Epoch 12/50\n",
      "247/247 [==============================] - 7s 30ms/step - loss: 0.2969 - accuracy: 0.6495 - f1_score: 0.6493 - val_loss: 0.2793 - val_accuracy: 0.6516 - val_f1_score: 0.6518\n",
      "Epoch 13/50\n",
      "247/247 [==============================] - 7s 30ms/step - loss: 0.2881 - accuracy: 0.6495 - f1_score: 0.6488 - val_loss: 0.2750 - val_accuracy: 0.6516 - val_f1_score: 0.6518\n",
      "Epoch 14/50\n",
      "247/247 [==============================] - 8s 32ms/step - loss: 0.2825 - accuracy: 0.6495 - f1_score: 0.6491 - val_loss: 0.2718 - val_accuracy: 0.6516 - val_f1_score: 0.6518\n",
      "Epoch 15/50\n",
      "247/247 [==============================] - 8s 32ms/step - loss: 0.2833 - accuracy: 0.6495 - f1_score: 0.6492 - val_loss: 0.2692 - val_accuracy: 0.6516 - val_f1_score: 0.6518\n",
      "Epoch 16/50\n",
      "247/247 [==============================] - 8s 32ms/step - loss: 0.2877 - accuracy: 0.6495 - f1_score: 0.6496 - val_loss: 0.2668 - val_accuracy: 0.6516 - val_f1_score: 0.6518\n",
      "Epoch 17/50\n",
      "247/247 [==============================] - 8s 30ms/step - loss: 0.2730 - accuracy: 0.6495 - f1_score: 0.6497 - val_loss: 0.2643 - val_accuracy: 0.6516 - val_f1_score: 0.6518\n",
      "Epoch 18/50\n",
      "247/247 [==============================] - 8s 31ms/step - loss: 0.2723 - accuracy: 0.6495 - f1_score: 0.6496 - val_loss: 0.2625 - val_accuracy: 0.6516 - val_f1_score: 0.6518\n",
      "Epoch 19/50\n",
      "247/247 [==============================] - 7s 30ms/step - loss: 0.2874 - accuracy: 0.6495 - f1_score: 0.6492 - val_loss: 0.2619 - val_accuracy: 0.6516 - val_f1_score: 0.6518\n",
      "Epoch 20/50\n",
      "247/247 [==============================] - 8s 31ms/step - loss: 0.2834 - accuracy: 0.6495 - f1_score: 0.6490 - val_loss: 0.2595 - val_accuracy: 0.6516 - val_f1_score: 0.6518\n",
      "Epoch 21/50\n",
      "247/247 [==============================] - 8s 31ms/step - loss: 0.2786 - accuracy: 0.6495 - f1_score: 0.6497 - val_loss: 0.2581 - val_accuracy: 0.6516 - val_f1_score: 0.6518\n",
      "Epoch 22/50\n",
      "247/247 [==============================] - 8s 31ms/step - loss: 0.2699 - accuracy: 0.6495 - f1_score: 0.6496 - val_loss: 0.2568 - val_accuracy: 0.6516 - val_f1_score: 0.6518\n",
      "Epoch 23/50\n",
      "247/247 [==============================] - 9s 35ms/step - loss: 0.2764 - accuracy: 0.6495 - f1_score: 0.6497 - val_loss: 0.2560 - val_accuracy: 0.6516 - val_f1_score: 0.6518\n",
      "Epoch 24/50\n",
      "247/247 [==============================] - 8s 32ms/step - loss: 0.2814 - accuracy: 0.6495 - f1_score: 0.6494 - val_loss: 0.2555 - val_accuracy: 0.6516 - val_f1_score: 0.6518\n",
      "Epoch 25/50\n",
      "247/247 [==============================] - 8s 32ms/step - loss: 0.2759 - accuracy: 0.6495 - f1_score: 0.6498 - val_loss: 0.2542 - val_accuracy: 0.6516 - val_f1_score: 0.6518\n",
      "Epoch 26/50\n",
      "247/247 [==============================] - 8s 32ms/step - loss: 0.2713 - accuracy: 0.6495 - f1_score: 0.6494 - val_loss: 0.2537 - val_accuracy: 0.6516 - val_f1_score: 0.6518\n",
      "Epoch 27/50\n",
      "247/247 [==============================] - 8s 32ms/step - loss: 0.2780 - accuracy: 0.6495 - f1_score: 0.6491 - val_loss: 0.2520 - val_accuracy: 0.6516 - val_f1_score: 0.6518\n",
      "Epoch 28/50\n",
      "247/247 [==============================] - 8s 32ms/step - loss: 0.2571 - accuracy: 0.6495 - f1_score: 0.6498 - val_loss: 0.2448 - val_accuracy: 0.6516 - val_f1_score: 0.6518\n",
      "Epoch 29/50\n",
      "247/247 [==============================] - 8s 31ms/step - loss: 0.2389 - accuracy: 0.6495 - f1_score: 0.6493 - val_loss: 0.2412 - val_accuracy: 0.6516 - val_f1_score: 0.6518\n",
      "Epoch 30/50\n",
      "247/247 [==============================] - 8s 31ms/step - loss: 0.2571 - accuracy: 0.6495 - f1_score: 0.6498 - val_loss: 0.2375 - val_accuracy: 0.6516 - val_f1_score: 0.6518\n",
      "Epoch 31/50\n",
      "247/247 [==============================] - 8s 34ms/step - loss: 0.2478 - accuracy: 0.6495 - f1_score: 0.6496 - val_loss: 0.2340 - val_accuracy: 0.6516 - val_f1_score: 0.6520\n",
      "Epoch 32/50\n",
      "247/247 [==============================] - 8s 33ms/step - loss: 0.2393 - accuracy: 0.6495 - f1_score: 0.6503 - val_loss: 0.2306 - val_accuracy: 0.6516 - val_f1_score: 0.6525\n",
      "Epoch 33/50\n",
      "247/247 [==============================] - 8s 32ms/step - loss: 0.2433 - accuracy: 0.6495 - f1_score: 0.6509 - val_loss: 0.2274 - val_accuracy: 0.6516 - val_f1_score: 0.6543\n",
      "Epoch 34/50\n",
      "247/247 [==============================] - 8s 32ms/step - loss: 0.2363 - accuracy: 0.6495 - f1_score: 0.6545 - val_loss: 0.2244 - val_accuracy: 0.6520 - val_f1_score: 0.6592\n",
      "Epoch 35/50\n",
      "247/247 [==============================] - 8s 31ms/step - loss: 0.2306 - accuracy: 0.6497 - f1_score: 0.6569 - val_loss: 0.2229 - val_accuracy: 0.6519 - val_f1_score: 0.6599\n",
      "Epoch 36/50\n",
      "247/247 [==============================] - 8s 32ms/step - loss: 0.2282 - accuracy: 0.6496 - f1_score: 0.6585 - val_loss: 0.2188 - val_accuracy: 0.6520 - val_f1_score: 0.6623\n",
      "Epoch 37/50\n",
      "247/247 [==============================] - 8s 32ms/step - loss: 0.2301 - accuracy: 0.6499 - f1_score: 0.6622 - val_loss: 0.2156 - val_accuracy: 0.6523 - val_f1_score: 0.6661\n",
      "Epoch 38/50\n",
      "247/247 [==============================] - 8s 32ms/step - loss: 0.2242 - accuracy: 0.6505 - f1_score: 0.6650 - val_loss: 0.2121 - val_accuracy: 0.6534 - val_f1_score: 0.6698\n",
      "Epoch 39/50\n",
      "247/247 [==============================] - 8s 33ms/step - loss: 0.2293 - accuracy: 0.6512 - f1_score: 0.6675 - val_loss: 0.2095 - val_accuracy: 0.6542 - val_f1_score: 0.6717\n",
      "Epoch 40/50\n",
      "247/247 [==============================] - 8s 34ms/step - loss: 0.2193 - accuracy: 0.6526 - f1_score: 0.6711 - val_loss: 0.2082 - val_accuracy: 0.6560 - val_f1_score: 0.6719\n",
      "Epoch 41/50\n",
      "247/247 [==============================] - 8s 32ms/step - loss: 0.2189 - accuracy: 0.6545 - f1_score: 0.6754 - val_loss: 0.2038 - val_accuracy: 0.6566 - val_f1_score: 0.6802\n",
      "Epoch 42/50\n",
      "247/247 [==============================] - 8s 32ms/step - loss: 0.2113 - accuracy: 0.6546 - f1_score: 0.6746 - val_loss: 0.2021 - val_accuracy: 0.6584 - val_f1_score: 0.6828\n",
      "Epoch 43/50\n",
      "247/247 [==============================] - 8s 32ms/step - loss: 0.2101 - accuracy: 0.6582 - f1_score: 0.6777 - val_loss: 0.2007 - val_accuracy: 0.6625 - val_f1_score: 0.6872\n",
      "Epoch 44/50\n",
      "247/247 [==============================] - 8s 32ms/step - loss: 0.2094 - accuracy: 0.6605 - f1_score: 0.6843 - val_loss: 0.1996 - val_accuracy: 0.6623 - val_f1_score: 0.6857\n",
      "Epoch 45/50\n"
     ]
    },
    {
     "name": "stdout",
     "output_type": "stream",
     "text": [
      "247/247 [==============================] - 8s 31ms/step - loss: 0.2039 - accuracy: 0.6624 - f1_score: 0.6873 - val_loss: 0.1974 - val_accuracy: 0.6680 - val_f1_score: 0.7015\n",
      "Epoch 46/50\n",
      "247/247 [==============================] - 8s 31ms/step - loss: 0.2129 - accuracy: 0.6680 - f1_score: 0.7003 - val_loss: 0.1967 - val_accuracy: 0.6777 - val_f1_score: 0.7123\n",
      "Epoch 47/50\n",
      "247/247 [==============================] - 8s 32ms/step - loss: 0.2045 - accuracy: 0.6767 - f1_score: 0.7059 - val_loss: 0.1940 - val_accuracy: 0.6902 - val_f1_score: 0.7134\n",
      "Epoch 48/50\n",
      "247/247 [==============================] - 9s 37ms/step - loss: 0.2004 - accuracy: 0.6872 - f1_score: 0.7095 - val_loss: 0.1922 - val_accuracy: 0.6902 - val_f1_score: 0.7115\n",
      "Epoch 49/50\n",
      "247/247 [==============================] - 8s 33ms/step - loss: 0.1948 - accuracy: 0.6866 - f1_score: 0.7113 - val_loss: 0.1898 - val_accuracy: 0.6836 - val_f1_score: 0.7107\n",
      "Epoch 50/50\n",
      "247/247 [==============================] - 8s 31ms/step - loss: 0.2033 - accuracy: 0.6931 - f1_score: 0.7150 - val_loss: 0.1878 - val_accuracy: 0.6968 - val_f1_score: 0.7245\n"
     ]
    }
   ],
   "source": [
    "\n",
    "history = model.fit(\n",
    "    train_data, np.array(label), batch_size=512, epochs=50, validation_split=0.3,callbacks=[pat])"
   ]
  },
  {
   "cell_type": "code",
   "execution_count": 114,
   "id": "a7629e06",
   "metadata": {},
   "outputs": [
    {
     "data": {
      "text/plain": [
       "[<matplotlib.lines.Line2D at 0x1aaa202a460>]"
      ]
     },
     "execution_count": 114,
     "metadata": {},
     "output_type": "execute_result"
    },
    {
     "data": {
      "image/png": "[encoded data removed]",
      "text/plain": [
       "<Figure size 640x480 with 1 Axes>"
      ]
     },
     "metadata": {},
     "output_type": "display_data"
    }
   ],
   "source": [
    "plt.plot(history.history['loss'])\n",
    "plt.plot(history.history['val_loss'])"
   ]
  },
  {
   "cell_type": "code",
   "execution_count": 64,
   "id": "a3b2bea0",
   "metadata": {},
   "outputs": [
    {
     "data": {
      "text/plain": [
       "[<matplotlib.lines.Line2D at 0x1a99c878be0>]"
      ]
     },
     "execution_count": 64,
     "metadata": {},
     "output_type": "execute_result"
    },
    {
     "data": {
      "image/png": "[encoded data removed]",
      "text/plain": [
       "<Figure size 640x480 with 1 Axes>"
      ]
     },
     "metadata": {},
     "output_type": "display_data"
    }
   ],
   "source": [
    "plt.plot(history.history['accuracy'])\n",
    "plt.plot(history.history['val_accuracy'])"
   ]
  },
  {
   "cell_type": "code",
   "execution_count": 65,
   "id": "61a446e5",
   "metadata": {},
   "outputs": [
    {
     "data": {
      "text/plain": [
       "[<matplotlib.lines.Line2D at 0x1a99cad27c0>]"
      ]
     },
     "execution_count": 65,
     "metadata": {},
     "output_type": "execute_result"
    },
    {
     "data": {
      "image/png": "[encoded data removed]",
      "text/plain": [
       "<Figure size 640x480 with 1 Axes>"
      ]
     },
     "metadata": {},
     "output_type": "display_data"
    }
   ],
   "source": [
    "plt.plot(history.history['f1_score'])\n",
    "plt.plot(history.history['val_f1_score'])"
   ]
  },
  {
   "cell_type": "code",
   "execution_count": 100,
   "id": "9a4c226e",
   "metadata": {
    "scrolled": true
   },
   "outputs": [
    {
     "data": {
      "text/plain": [
       "array([1052439, 1130800, 1177330, ..., 1149489, 1025940, 1070083],\n",
       "      dtype=int64)"
      ]
     },
     "execution_count": 100,
     "metadata": {},
     "output_type": "execute_result"
    }
   ],
   "source": [
    "ids=np.array(df1['id'])\n",
    "ids"
   ]
  },
  {
   "cell_type": "code",
   "execution_count": 101,
   "id": "f36c3798",
   "metadata": {},
   "outputs": [
    {
     "name": "stdout",
     "output_type": "stream",
     "text": [
      "1380/1380 [==============================] - 9s 6ms/step\n"
     ]
    }
   ],
   "source": [
    "n=np.array(model.predict(test_data))"
   ]
  },
  {
   "cell_type": "code",
   "execution_count": 104,
   "id": "99ec9d15",
   "metadata": {},
   "outputs": [
    {
     "data": {
      "text/plain": [
       "array([[  166,    28, 41701, ...,     0,     0,     0],\n",
       "       [   72,   163, 41701, ...,     0,     0,     0],\n",
       "       [ 2433,   302, 41701, ...,     0,     0,     0],\n",
       "       ...,\n",
       "       [    1, 41701,     0, ...,     0,     0,     0],\n",
       "       [  364,     7,    86, ...,     0,     0,     0],\n",
       "       [   33,    54,  1002, ...,     0,     0,     0]])"
      ]
     },
     "execution_count": 104,
     "metadata": {},
     "output_type": "execute_result"
    }
   ],
   "source": [
    "test_data"
   ]
  },
  {
   "cell_type": "code",
   "execution_count": 105,
   "id": "f49eee9f",
   "metadata": {},
   "outputs": [],
   "source": [
    "out={'id':[],'price_value':[],'fake_originality':[],'warranty':[],'size':[],'discrepancy':[],'flavor_odor':[],'expiration_date':[]}"
   ]
  },
  {
   "cell_type": "code",
   "execution_count": 106,
   "id": "5414f2ac",
   "metadata": {},
   "outputs": [],
   "source": [
    "for i in range(len(n)):\n",
    "    biner=bin(int(float(ohe.get_feature_names_out()[n[i].argmax()][3:])))[2:]\n",
    "    lab=''\n",
    "    if len(biner)==7:\n",
    "        lab=biner\n",
    "    elif len(biner)<7:\n",
    "        lab=biner+((7-len(biner))*'0')\n",
    "    out['id'].append(ids[i])\n",
    "    out['price_value'].append(int(lab[0]))\n",
    "    out['fake_originality'].append(int(lab[1]))\n",
    "    out['warranty'].append(int(lab[2]))\n",
    "    out['size'].append(int(lab[3]))\n",
    "    out['discrepancy'].append(int(lab[4]))\n",
    "    out['flavor_odor'].append(int(lab[5]))\n",
    "    out['expiration_date'].append(int(lab[6]))"
   ]
  },
  {
   "cell_type": "code",
   "execution_count": 108,
   "id": "d46602a2",
   "metadata": {},
   "outputs": [
    {
     "data": {
      "text/html": [
       "<div>\n",
       "<style scoped>\n",
       "    .dataframe tbody tr th:only-of-type {\n",
       "        vertical-align: middle;\n",
       "    }\n",
       "\n",
       "    .dataframe tbody tr th {\n",
       "        vertical-align: top;\n",
       "    }\n",
       "\n",
       "    .dataframe thead th {\n",
       "        text-align: right;\n",
       "    }\n",
       "</style>\n",
       "<table border=\"1\" class=\"dataframe\">\n",
       "  <thead>\n",
       "    <tr style=\"text-align: right;\">\n",
       "      <th></th>\n",
       "      <th>id</th>\n",
       "      <th>price_value</th>\n",
       "      <th>fake_originality</th>\n",
       "      <th>warranty</th>\n",
       "      <th>size</th>\n",
       "      <th>discrepancy</th>\n",
       "      <th>flavor_odor</th>\n",
       "      <th>expiration_date</th>\n",
       "    </tr>\n",
       "  </thead>\n",
       "  <tbody>\n",
       "    <tr>\n",
       "      <th>0</th>\n",
       "      <td>1052439</td>\n",
       "      <td>0</td>\n",
       "      <td>0</td>\n",
       "      <td>0</td>\n",
       "      <td>0</td>\n",
       "      <td>0</td>\n",
       "      <td>0</td>\n",
       "      <td>0</td>\n",
       "    </tr>\n",
       "    <tr>\n",
       "      <th>1</th>\n",
       "      <td>1130800</td>\n",
       "      <td>0</td>\n",
       "      <td>0</td>\n",
       "      <td>0</td>\n",
       "      <td>0</td>\n",
       "      <td>0</td>\n",
       "      <td>0</td>\n",
       "      <td>0</td>\n",
       "    </tr>\n",
       "    <tr>\n",
       "      <th>2</th>\n",
       "      <td>1177330</td>\n",
       "      <td>0</td>\n",
       "      <td>0</td>\n",
       "      <td>0</td>\n",
       "      <td>0</td>\n",
       "      <td>0</td>\n",
       "      <td>0</td>\n",
       "      <td>0</td>\n",
       "    </tr>\n",
       "    <tr>\n",
       "      <th>3</th>\n",
       "      <td>1047314</td>\n",
       "      <td>1</td>\n",
       "      <td>0</td>\n",
       "      <td>0</td>\n",
       "      <td>0</td>\n",
       "      <td>0</td>\n",
       "      <td>0</td>\n",
       "      <td>0</td>\n",
       "    </tr>\n",
       "    <tr>\n",
       "      <th>4</th>\n",
       "      <td>1096710</td>\n",
       "      <td>0</td>\n",
       "      <td>0</td>\n",
       "      <td>0</td>\n",
       "      <td>0</td>\n",
       "      <td>0</td>\n",
       "      <td>0</td>\n",
       "      <td>0</td>\n",
       "    </tr>\n",
       "    <tr>\n",
       "      <th>...</th>\n",
       "      <td>...</td>\n",
       "      <td>...</td>\n",
       "      <td>...</td>\n",
       "      <td>...</td>\n",
       "      <td>...</td>\n",
       "      <td>...</td>\n",
       "      <td>...</td>\n",
       "      <td>...</td>\n",
       "    </tr>\n",
       "    <tr>\n",
       "      <th>44126</th>\n",
       "      <td>1231557</td>\n",
       "      <td>0</td>\n",
       "      <td>0</td>\n",
       "      <td>0</td>\n",
       "      <td>0</td>\n",
       "      <td>0</td>\n",
       "      <td>0</td>\n",
       "      <td>0</td>\n",
       "    </tr>\n",
       "    <tr>\n",
       "      <th>44127</th>\n",
       "      <td>1256361</td>\n",
       "      <td>1</td>\n",
       "      <td>0</td>\n",
       "      <td>0</td>\n",
       "      <td>0</td>\n",
       "      <td>0</td>\n",
       "      <td>0</td>\n",
       "      <td>0</td>\n",
       "    </tr>\n",
       "    <tr>\n",
       "      <th>44128</th>\n",
       "      <td>1149489</td>\n",
       "      <td>0</td>\n",
       "      <td>0</td>\n",
       "      <td>0</td>\n",
       "      <td>0</td>\n",
       "      <td>0</td>\n",
       "      <td>0</td>\n",
       "      <td>0</td>\n",
       "    </tr>\n",
       "    <tr>\n",
       "      <th>44129</th>\n",
       "      <td>1025940</td>\n",
       "      <td>0</td>\n",
       "      <td>0</td>\n",
       "      <td>0</td>\n",
       "      <td>0</td>\n",
       "      <td>0</td>\n",
       "      <td>0</td>\n",
       "      <td>0</td>\n",
       "    </tr>\n",
       "    <tr>\n",
       "      <th>44130</th>\n",
       "      <td>1070083</td>\n",
       "      <td>0</td>\n",
       "      <td>0</td>\n",
       "      <td>0</td>\n",
       "      <td>0</td>\n",
       "      <td>0</td>\n",
       "      <td>0</td>\n",
       "      <td>0</td>\n",
       "    </tr>\n",
       "  </tbody>\n",
       "</table>\n",
       "<p>44131 rows × 8 columns</p>\n",
       "</div>"
      ],
      "text/plain": [
       "            id  price_value  fake_originality  warranty  size  discrepancy  \\\n",
       "0      1052439            0                 0         0     0            0   \n",
       "1      1130800            0                 0         0     0            0   \n",
       "2      1177330            0                 0         0     0            0   \n",
       "3      1047314            1                 0         0     0            0   \n",
       "4      1096710            0                 0         0     0            0   \n",
       "...        ...          ...               ...       ...   ...          ...   \n",
       "44126  1231557            0                 0         0     0            0   \n",
       "44127  1256361            1                 0         0     0            0   \n",
       "44128  1149489            0                 0         0     0            0   \n",
       "44129  1025940            0                 0         0     0            0   \n",
       "44130  1070083            0                 0         0     0            0   \n",
       "\n",
       "       flavor_odor  expiration_date  \n",
       "0                0                0  \n",
       "1                0                0  \n",
       "2                0                0  \n",
       "3                0                0  \n",
       "4                0                0  \n",
       "...            ...              ...  \n",
       "44126            0                0  \n",
       "44127            0                0  \n",
       "44128            0                0  \n",
       "44129            0                0  \n",
       "44130            0                0  \n",
       "\n",
       "[44131 rows x 8 columns]"
      ]
     },
     "execution_count": 108,
     "metadata": {},
     "output_type": "execute_result"
    }
   ],
   "source": [
    "pd.DataFrame(out)"
   ]
  },
  {
   "cell_type": "code",
   "execution_count": 115,
   "id": "41a266c0",
   "metadata": {},
   "outputs": [],
   "source": [
    "pd.DataFrame(out).to_csv('output.csv')"
   ]
  }
 ],
 "metadata": {
  "kernelspec": {
   "display_name": "Python 3 (ipykernel)",
   "language": "python",
   "name": "python3"
  },
  "language_info": {
   "codemirror_mode": {
    "name": "ipython",
    "version": 3
   },
   "file_extension": ".py",
   "mimetype": "text/x-python",
   "name": "python",
   "nbconvert_exporter": "python",
   "pygments_lexer": "ipython3",
   "version": "3.9.13"
  }
 },
 "nbformat": 4,
 "nbformat_minor": 5
}
